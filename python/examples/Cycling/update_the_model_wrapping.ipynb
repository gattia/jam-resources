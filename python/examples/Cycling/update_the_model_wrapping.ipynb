{
 "cells": [
  {
   "cell_type": "code",
   "execution_count": 1,
   "id": "976adebe",
   "metadata": {},
   "outputs": [],
   "source": [
    "import os\n",
    "import numpy as np\n",
    "import opensim as osim"
   ]
  },
  {
   "cell_type": "code",
   "execution_count": 2,
   "id": "49f93c3c",
   "metadata": {},
   "outputs": [
    {
     "name": "stdout",
     "output_type": "stream",
     "text": [
      "[info] Loaded model scale_tool from file ./model/scaled_lenhart_model.osim\n"
     ]
    }
   ],
   "source": [
    "path_model = './model/scaled_lenhart_model.osim'\n",
    "model = osim.Model(path_model)"
   ]
  },
  {
   "cell_type": "code",
   "execution_count": 3,
   "id": "f49a7614",
   "metadata": {},
   "outputs": [],
   "source": [
    "ellipsoid = osim.WrapEllipsoid()\n",
    "ellipsoid.set_xyz_body_rotation(osim.Vec3([0, 0, -0.28]))\n",
    "ellipsoid.set_translation(osim.Vec3([-0.04, -0.353, 0]))\n",
    "ellipsoid.set_quadrant('all')\n",
    "ellipsoid.set_dimensions(osim.Vec3([0.08, 0.035, 0.2]))\n",
    "ellipsoid.setName(\"KnExt_at_fem_r_2\")"
   ]
  },
  {
   "cell_type": "code",
   "execution_count": 5,
   "id": "91804d6b",
   "metadata": {},
   "outputs": [
    {
     "name": "stdout",
     "output_type": "stream",
     "text": [
      "femur_r\n",
      "Added wrap\n"
     ]
    }
   ],
   "source": [
    "body_add_ellipsoid = 'femur_r'\n",
    "\n",
    "bodyset = model.getBodySet()\n",
    "\n",
    "for idx in range(bodyset.getSize()):\n",
    "    body = bodyset.get(idx)\n",
    "    name = body.getName()\n",
    "    if name == body_add_ellipsoid:\n",
    "        print(name)\n",
    "        body.addWrapObject(ellipsoid)\n",
    "        print(f'Added wrap')"
   ]
  },
  {
   "cell_type": "code",
   "execution_count": 6,
   "id": "00ad857a",
   "metadata": {},
   "outputs": [],
   "source": [
    "def update_path_point(muscle, pt_idx, indices, locations):\n",
    "    if type(indices) not in [list, tuple]:\n",
    "        indices = [indices,]\n",
    "    if type(locations) not in [list, tuple]:\n",
    "        locations = [locations,]\n",
    "    geopath = muscle.getGeometryPath()\n",
    "    path_pointset = geopath.getPathPointSet()\n",
    "    pt = path_pointset.get(pt_idx)\n",
    "    orig_loc = [pt.getLocation(state)[x] for x in range(3)]\n",
    "    pt_ = [pt.getLocation(state)[x] for x in range(3)]\n",
    "    for idx, new_loc in zip(indices, locations):\n",
    "        pt_[idx] = new_loc\n",
    "        \n",
    "    path_point_ = osim.PathPoint.safeDownCast(pt)\n",
    "    path_point_.setLocation(osim.Vec3(pt_))\n",
    "    updated_loc = [geopath.getPathPointSet().get(pt_idx).getLocation(state)[x] for x in range(3)]\n",
    "    print(f'Orig location: {orig_loc}\\nNew location: {updated_loc}')\n",
    "\n",
    "    "
   ]
  },
  {
   "cell_type": "code",
   "execution_count": 7,
   "id": "cc77c901",
   "metadata": {},
   "outputs": [
    {
     "name": "stdout",
     "output_type": "stream",
     "text": [
      "33 recfem_r\n",
      "Orig location: [-0.000102437, 0.0149698, 0.0011381]\n",
      "New location: [0.0, 0.0149698, 0.0011381]\n",
      "41 vasint_r\n",
      "Orig location: [-0.00380437, 0.0180608, -0.00035737]\n",
      "New location: [0.0, 0.0156828, -0.00035737]\n",
      "43 vasmed_r\n",
      "Orig location: [-0.000394407, 0.0156828, -0.0093351]\n",
      "New location: [0.0, 0.0156828, -0.0093351]\n"
     ]
    }
   ],
   "source": [
    "quads = [\n",
    "    'recfem_r',\n",
    "    'vasint_r',\n",
    "    'vaslat_r',\n",
    "    'vasmed_r'\n",
    "]\n",
    "\n",
    "muscles = model.getMuscles()\n",
    "n_muscles = muscles.getSize()\n",
    "\n",
    "state = model.initSystem()\n",
    "\n",
    "for muscle_idx in range(n_muscles):\n",
    "    muscle = muscles.get(muscle_idx)\n",
    "    name = muscle.getName()\n",
    "    if name in quads:\n",
    "        # Update each quads muscle to wrap around new object. \n",
    "        geopath = muscle.getGeometryPath()\n",
    "        wrapset = geopath.getWrapSet()\n",
    "        wrap = wrapset.get(0)\n",
    "        wrap.set_wrap_object(0, ellipsoid.getName())\n",
    "    \n",
    "    if name == 'recfem_r':\n",
    "        print(muscle_idx, name)\n",
    "        update_path_point(\n",
    "            muscle=muscle, \n",
    "            pt_idx=1, \n",
    "            indices=[0,], \n",
    "            locations=[0.0,]\n",
    "        )\n",
    "    elif name == 'vasint_r':\n",
    "        print(muscle_idx, name)\n",
    "        update_path_point(\n",
    "            muscle=muscle, \n",
    "            pt_idx=2, \n",
    "            indices=[0, 1], \n",
    "            locations=[0.0, 0.0156828]\n",
    "        )\n",
    "    elif name == 'vasmed_r':\n",
    "        print(muscle_idx, name)\n",
    "        update_path_point(muscle=muscle, pt_idx=2, indices=[0], locations=[0.0])"
   ]
  },
  {
   "cell_type": "code",
   "execution_count": 8,
   "id": "0e7c5a25",
   "metadata": {},
   "outputs": [
    {
     "data": {
      "text/plain": [
       "True"
      ]
     },
     "execution_count": 8,
     "metadata": {},
     "output_type": "execute_result"
    }
   ],
   "source": [
    "model.printToXML('./model/scaled_lenhart_model_updated_wrap.osim')"
   ]
  }
 ],
 "metadata": {
  "kernelspec": {
   "display_name": "Python 3 (ipykernel)",
   "language": "python",
   "name": "python3"
  },
  "language_info": {
   "codemirror_mode": {
    "name": "ipython",
    "version": 3
   },
   "file_extension": ".py",
   "mimetype": "text/x-python",
   "name": "python",
   "nbconvert_exporter": "python",
   "pygments_lexer": "ipython3",
   "version": "3.7.7"
  }
 },
 "nbformat": 4,
 "nbformat_minor": 5
}

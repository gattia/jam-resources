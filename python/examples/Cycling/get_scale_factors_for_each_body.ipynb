{
 "cells": [
  {
   "cell_type": "code",
   "execution_count": 1,
   "id": "52369450",
   "metadata": {},
   "outputs": [],
   "source": [
    "import os\n",
    "import opensim as osim\n",
    "import numpy as np\n",
    "import json"
   ]
  },
  {
   "cell_type": "code",
   "execution_count": 2,
   "id": "4a2355f7",
   "metadata": {},
   "outputs": [
    {
     "name": "stdout",
     "output_type": "stream",
     "text": [
      "[info] Loaded model lenhart2015 from file ../../../models/knee_healthy/lenhart2015/lenhart2015.osim\n"
     ]
    }
   ],
   "source": [
    "path_comak_model = '../../../models/knee_healthy/lenhart2015/lenhart2015.osim'\n",
    "comak_model = osim.Model(path_comak_model)"
   ]
  },
  {
   "cell_type": "code",
   "execution_count": 3,
   "id": "8514e079",
   "metadata": {},
   "outputs": [
    {
     "name": "stdout",
     "output_type": "stream",
     "text": [
      "pelvis\n",
      "femur_r\n",
      "femur_distal_r\n",
      "patella_r\n",
      "tibia_proximal_r\n",
      "tibia_r\n",
      "talus_r\n",
      "calcn_r\n",
      "toes_r\n",
      "femur_l\n",
      "patella_l\n",
      "tibia_l\n",
      "talus_l\n",
      "calcn_l\n",
      "toes_l\n",
      "torso\n",
      "neckhead\n",
      "humerus_r\n",
      "ulna_r\n",
      "radius_r\n",
      "hand_r\n",
      "humerus_l\n",
      "ulna_l\n",
      "radius_l\n",
      "hand_l\n"
     ]
    },
    {
     "name": "stderr",
     "output_type": "stream",
     "text": [
      "/miniconda/lib/python3.7/site-packages/numpy/core/fromnumeric.py:3420: RuntimeWarning: Mean of empty slice.\n",
      "  out=out, **kwargs)\n",
      "/miniconda/lib/python3.7/site-packages/numpy/core/_methods.py:181: RuntimeWarning: invalid value encountered in true_divide\n",
      "  ret, rcount, out=ret, casting='unsafe', subok=False)\n",
      "/miniconda/lib/python3.7/site-packages/numpy/core/_methods.py:262: RuntimeWarning: Degrees of freedom <= 0 for slice\n",
      "  keepdims=keepdims, where=where)\n",
      "/miniconda/lib/python3.7/site-packages/numpy/core/_methods.py:222: RuntimeWarning: invalid value encountered in true_divide\n",
      "  subok=False)\n",
      "/miniconda/lib/python3.7/site-packages/numpy/core/_methods.py:251: RuntimeWarning: invalid value encountered in true_divide\n",
      "  ret, rcount, out=ret, casting='unsafe', subok=False)\n",
      "/miniconda/lib/python3.7/site-packages/numpy/core/_methods.py:253: RuntimeWarning: invalid value encountered in double_scalars\n",
      "  ret = ret.dtype.type(ret / rcount)\n"
     ]
    }
   ],
   "source": [
    "dict_bodies = {}\n",
    "\n",
    "comak_bodies = comak_model.getBodySet()\n",
    "\n",
    "for body_idx in range(comak_bodies.getSize()):\n",
    "    body = comak_bodies.get(body_idx)\n",
    "    name = body.getName()\n",
    "    attached_geo = body.getPropertyByName('attached_geometry')\n",
    "    n_geos = attached_geo.size()\n",
    "    geos = np.zeros((n_geos, 3))\n",
    "    for i in range(n_geos):\n",
    "        geos[i, :] = [body.get_attached_geometry(i).get_scale_factors()[x] for x in range(3)]\n",
    "    print(name)\n",
    "    \n",
    "    dict_bodies[name] = {\n",
    "        'mean_scale': np.mean(geos, axis=0),\n",
    "        'std_scale': np.std(geos, axis=0),\n",
    "        'const_axis_scale': np.std(geos, axis=0) < 1e-4,\n",
    "        'const_scale': np.std(geos) < 1e-4\n",
    "    }\n",
    "    "
   ]
  },
  {
   "cell_type": "code",
   "execution_count": 4,
   "id": "c961976e",
   "metadata": {},
   "outputs": [
    {
     "data": {
      "text/plain": [
       "array([1.23363476, 0.9135289 , 0.66892759])"
      ]
     },
     "execution_count": 4,
     "metadata": {},
     "output_type": "execute_result"
    }
   ],
   "source": [
    "femur_r_lenhart_translation = np.asarray([-0.0055513564376633642, -0.37418143637169787, -0.0011706232813375212])\n",
    "# offset = np.asarray([-0.00808954, -0.0035348, -0.00148474])\n",
    "# femur_r_lenhart_translation += offset\n",
    "femur_r_walker_location_in_parent = np.asarray([-0.0044999999999999997, -0.40960000000000002, -0.00175])\n",
    "\n",
    "femur_r_lenhart_translation / femur_r_walker_location_in_parent\n"
   ]
  },
  {
   "cell_type": "code",
   "execution_count": 5,
   "id": "a461e569",
   "metadata": {},
   "outputs": [
    {
     "name": "stderr",
     "output_type": "stream",
     "text": [
      "/miniconda/lib/python3.7/site-packages/ipykernel_launcher.py:4: RuntimeWarning: invalid value encountered in true_divide\n",
      "  after removing the cwd from sys.path.\n"
     ]
    },
    {
     "data": {
      "text/plain": [
       "array([1.00826681, 1.00826681,        nan])"
      ]
     },
     "execution_count": 5,
     "metadata": {},
     "output_type": "execute_result"
    }
   ],
   "source": [
    "ankle_tibia_offset_rajagopal = np.asarray([-0.01, -0.40000000000000002, 0])\n",
    "ankle_tibia_offset_lenhart = np.asarray([-0.010082668143607483, -0.40330672574429932, 0])\n",
    "\n",
    "ankle_tibia_offset_lenhart / ankle_tibia_offset_rajagopal\n"
   ]
  },
  {
   "cell_type": "code",
   "execution_count": 6,
   "id": "143e1f7b",
   "metadata": {},
   "outputs": [],
   "source": [
    "femur_r_scale = 0.9135289\n",
    "tibia_r_scale = 1.00826681"
   ]
  },
  {
   "cell_type": "code",
   "execution_count": 7,
   "id": "e07832a6",
   "metadata": {},
   "outputs": [
    {
     "data": {
      "text/plain": [
       "{'pelvis': {'mean_scale': array([1.19585345, 1.06053591, 1.19585345]),\n",
       "  'std_scale': array([0., 0., 0.]),\n",
       "  'const_axis_scale': array([ True,  True,  True]),\n",
       "  'const_scale': False},\n",
       " 'femur_r': {'mean_scale': array([nan, nan, nan]),\n",
       "  'std_scale': array([nan, nan, nan]),\n",
       "  'const_axis_scale': array([False, False, False]),\n",
       "  'const_scale': False},\n",
       " 'femur_distal_r': {'mean_scale': array([1., 1., 1.]),\n",
       "  'std_scale': array([0., 0., 0.]),\n",
       "  'const_axis_scale': array([ True,  True,  True]),\n",
       "  'const_scale': True},\n",
       " 'patella_r': {'mean_scale': array([1., 1., 1.]),\n",
       "  'std_scale': array([0., 0., 0.]),\n",
       "  'const_axis_scale': array([ True,  True,  True]),\n",
       "  'const_scale': True},\n",
       " 'tibia_proximal_r': {'mean_scale': array([1., 1., 1.]),\n",
       "  'std_scale': array([0., 0., 0.]),\n",
       "  'const_axis_scale': array([ True,  True,  True]),\n",
       "  'const_scale': True},\n",
       " 'tibia_r': {'mean_scale': array([nan, nan, nan]),\n",
       "  'std_scale': array([nan, nan, nan]),\n",
       "  'const_axis_scale': array([False, False, False]),\n",
       "  'const_scale': False},\n",
       " 'talus_r': {'mean_scale': array([1.00826681, 1.00826681, 1.00826681]),\n",
       "  'std_scale': array([0., 0., 0.]),\n",
       "  'const_axis_scale': array([ True,  True,  True]),\n",
       "  'const_scale': True},\n",
       " 'calcn_r': {'mean_scale': array([1.00826681, 1.00826681, 1.00826681]),\n",
       "  'std_scale': array([0., 0., 0.]),\n",
       "  'const_axis_scale': array([ True,  True,  True]),\n",
       "  'const_scale': True},\n",
       " 'toes_r': {'mean_scale': array([1.00826681, 1.00826681, 1.00826681]),\n",
       "  'std_scale': array([0., 0., 0.]),\n",
       "  'const_axis_scale': array([ True,  True,  True]),\n",
       "  'const_scale': True},\n",
       " 'femur_l': {'mean_scale': array([0.92521836, 0.92521836, 0.92521836]),\n",
       "  'std_scale': array([0., 0., 0.]),\n",
       "  'const_axis_scale': array([ True,  True,  True]),\n",
       "  'const_scale': True},\n",
       " 'patella_l': {'mean_scale': array([0.92521836, 0.92521836, 0.92521836]),\n",
       "  'std_scale': array([0., 0., 0.]),\n",
       "  'const_axis_scale': array([ True,  True,  True]),\n",
       "  'const_scale': True},\n",
       " 'tibia_l': {'mean_scale': array([1.00826681, 1.00826681, 1.00826681]),\n",
       "  'std_scale': array([0., 0., 0.]),\n",
       "  'const_axis_scale': array([ True,  True,  True]),\n",
       "  'const_scale': True},\n",
       " 'talus_l': {'mean_scale': array([1.00826681, 1.00826681, 1.00826681]),\n",
       "  'std_scale': array([0., 0., 0.]),\n",
       "  'const_axis_scale': array([ True,  True,  True]),\n",
       "  'const_scale': True},\n",
       " 'calcn_l': {'mean_scale': array([1.00826681, 1.00826681, 1.00826681]),\n",
       "  'std_scale': array([0., 0., 0.]),\n",
       "  'const_axis_scale': array([ True,  True,  True]),\n",
       "  'const_scale': True},\n",
       " 'toes_l': {'mean_scale': array([1.00826681, 1.00826681, 1.00826681]),\n",
       "  'std_scale': array([0., 0., 0.]),\n",
       "  'const_axis_scale': array([ True,  True,  True]),\n",
       "  'const_scale': True},\n",
       " 'torso': {'mean_scale': array([0.90875659, 0.80042918, 0.92655751]),\n",
       "  'std_scale': array([5.55111512e-16, 1.11022302e-16, 1.11022302e-16]),\n",
       "  'const_axis_scale': array([ True,  True,  True]),\n",
       "  'const_scale': False},\n",
       " 'neckhead': {'mean_scale': array([0.80042918, 0.80042918, 0.80042918]),\n",
       "  'std_scale': array([2.22044605e-16, 2.22044605e-16, 2.22044605e-16]),\n",
       "  'const_axis_scale': array([ True,  True,  True]),\n",
       "  'const_scale': True},\n",
       " 'humerus_r': {'mean_scale': array([0.91958194, 0.91958194, 0.91958194]),\n",
       "  'std_scale': array([0., 0., 0.]),\n",
       "  'const_axis_scale': array([ True,  True,  True]),\n",
       "  'const_scale': True},\n",
       " 'ulna_r': {'mean_scale': array([0.83989653, 0.83989653, 0.83989653]),\n",
       "  'std_scale': array([0., 0., 0.]),\n",
       "  'const_axis_scale': array([ True,  True,  True]),\n",
       "  'const_scale': True},\n",
       " 'radius_r': {'mean_scale': array([0.83989653, 0.83989653, 0.83989653]),\n",
       "  'std_scale': array([0., 0., 0.]),\n",
       "  'const_axis_scale': array([ True,  True,  True]),\n",
       "  'const_scale': True},\n",
       " 'hand_r': {'mean_scale': array([0.83989653, 0.83989653, 0.83989653]),\n",
       "  'std_scale': array([4.4408921e-16, 4.4408921e-16, 4.4408921e-16]),\n",
       "  'const_axis_scale': array([ True,  True,  True]),\n",
       "  'const_scale': True},\n",
       " 'humerus_l': {'mean_scale': array([0.91958194, 0.91958194, 0.91958194]),\n",
       "  'std_scale': array([0., 0., 0.]),\n",
       "  'const_axis_scale': array([ True,  True,  True]),\n",
       "  'const_scale': True},\n",
       " 'ulna_l': {'mean_scale': array([0.83989653, 0.83989653, 0.83989653]),\n",
       "  'std_scale': array([0., 0., 0.]),\n",
       "  'const_axis_scale': array([ True,  True,  True]),\n",
       "  'const_scale': True},\n",
       " 'radius_l': {'mean_scale': array([0.83989653, 0.83989653, 0.83989653]),\n",
       "  'std_scale': array([0., 0., 0.]),\n",
       "  'const_axis_scale': array([ True,  True,  True]),\n",
       "  'const_scale': True},\n",
       " 'hand_l': {'mean_scale': array([0.83989653, 0.83989653, 0.83989653]),\n",
       "  'std_scale': array([4.4408921e-16, 4.4408921e-16, 4.4408921e-16]),\n",
       "  'const_axis_scale': array([ True,  True,  True]),\n",
       "  'const_scale': True}}"
      ]
     },
     "execution_count": 7,
     "metadata": {},
     "output_type": "execute_result"
    }
   ],
   "source": [
    "dict_bodies"
   ]
  },
  {
   "cell_type": "markdown",
   "id": "ec39e477",
   "metadata": {},
   "source": [
    "## Notes:\n",
    "The above shows that the only bodies that arent consistently scaled on all axes are: \n",
    "   - Pelvi\n",
    "   - Torso\n",
    "   \n",
    "The only ones without scales are tibia_r and femur_r because they have no geometry anymore. \n",
    "\n",
    "- Tibia scaling is consistent on all axes -> so will just use that. \n",
    "- Femur scaling is less clear, but becuase large errors potentially in med/lat and ant/post measurements, will just use long-axis length as scaling factor\n",
    "\n",
    "Redoing the above and only saving the scaling factors along each axis"
   ]
  },
  {
   "cell_type": "code",
   "execution_count": 8,
   "id": "784b48a3",
   "metadata": {},
   "outputs": [
    {
     "name": "stdout",
     "output_type": "stream",
     "text": [
      "pelvis\n",
      "femur_r\n",
      "femur_distal_r\n",
      "patella_r\n",
      "tibia_proximal_r\n",
      "tibia_r\n",
      "talus_r\n",
      "calcn_r\n",
      "toes_r\n",
      "femur_l\n",
      "patella_l\n",
      "tibia_l\n",
      "talus_l\n",
      "calcn_l\n",
      "toes_l\n",
      "torso\n",
      "neckhead\n",
      "humerus_r\n",
      "ulna_r\n",
      "radius_r\n",
      "hand_r\n",
      "humerus_l\n",
      "ulna_l\n",
      "radius_l\n",
      "hand_l\n"
     ]
    }
   ],
   "source": [
    "dict_body_scales = {}\n",
    "\n",
    "comak_bodies = comak_model.getBodySet()\n",
    "\n",
    "for body_idx in range(comak_bodies.getSize()):\n",
    "    body = comak_bodies.get(body_idx)\n",
    "    name = body.getName()\n",
    "    attached_geo = body.getPropertyByName('attached_geometry')\n",
    "    n_geos = attached_geo.size()\n",
    "    geos = np.zeros((n_geos, 3))\n",
    "    for i in range(n_geos):\n",
    "        geos[i, :] = [body.get_attached_geometry(i).get_scale_factors()[x] for x in range(3)]\n",
    "    print(name)\n",
    "    \n",
    "#     geo = body.get_attached_geometry(0)\n",
    "#     scale = [geo.get_scale_factors()[x] for x in range(3)]\n",
    "    if name == 'femur_r':\n",
    "        scale = [0.9135289, 0.9135289, 0.9135289]\n",
    "    elif name == 'tibia_r':\n",
    "        scale = [1.00826681, 1.00826681, 1.00826681]\n",
    "    else:\n",
    "        scale = geos[0,:].tolist()\n",
    "    dict_body_scales[name] = scale "
   ]
  },
  {
   "cell_type": "code",
   "execution_count": 9,
   "id": "ea0700e9",
   "metadata": {},
   "outputs": [],
   "source": [
    "with open('./body_scaling.json', 'w') as f:\n",
    "    json.dump(dict_body_scales, f, indent=4)"
   ]
  },
  {
   "cell_type": "code",
   "execution_count": null,
   "id": "fff321e3",
   "metadata": {},
   "outputs": [],
   "source": []
  }
 ],
 "metadata": {
  "kernelspec": {
   "display_name": "Python 3 (ipykernel)",
   "language": "python",
   "name": "python3"
  },
  "language_info": {
   "codemirror_mode": {
    "name": "ipython",
    "version": 3
   },
   "file_extension": ".py",
   "mimetype": "text/x-python",
   "name": "python",
   "nbconvert_exporter": "python",
   "pygments_lexer": "ipython3",
   "version": "3.7.7"
  }
 },
 "nbformat": 4,
 "nbformat_minor": 5
}

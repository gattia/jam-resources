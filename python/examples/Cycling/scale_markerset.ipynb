{
 "cells": [
  {
   "cell_type": "code",
   "execution_count": 1,
   "id": "e64c6d37",
   "metadata": {},
   "outputs": [],
   "source": [
    "import os\n",
    "import opensim as osim\n",
    "import numpy as np\n",
    "import json"
   ]
  },
  {
   "cell_type": "code",
   "execution_count": 2,
   "id": "9724c233",
   "metadata": {},
   "outputs": [],
   "source": [
    "with open('./body_scaling.json', 'r') as f:\n",
    "    dict_scaling = json.load(f)"
   ]
  },
  {
   "cell_type": "code",
   "execution_count": 3,
   "id": "e05bea68",
   "metadata": {},
   "outputs": [
    {
     "name": "stdout",
     "output_type": "stream",
     "text": [
      "[info] Loaded model LaiArnold2017_refined_P017 from file ./model/scaled_func_knee_and_ankle_osim_32_P017_r2_rra.osim\n",
      "[warning] Couldn't find file 'femur_r.vtp'.\n",
      "[warning] Couldn't find file 'tibia_r.vtp'.\n"
     ]
    }
   ],
   "source": [
    "path_base_model = './model/scaled_func_knee_and_ankle_osim_32_P017_r2_rra.osim'\n",
    "model = osim.Model(path_base_model)"
   ]
  },
  {
   "cell_type": "code",
   "execution_count": 4,
   "id": "7a19c928",
   "metadata": {},
   "outputs": [],
   "source": [
    "markerset = model.getMarkerSet()\n",
    "n_markers = markerset.getSize()\n",
    "for marker_idx in range(n_markers):\n",
    "    marker = markerset.get(marker_idx)\n",
    "    location = np.asarray([marker.get_location()[x] for x in range(3)])\n",
    "    parent_frame = marker.getSocket('parent_frame')\n",
    "    parent_name = parent_frame.getConnecteePath()\n",
    "    parent_name = parent_name.replace('/bodyset/', '')\n",
    "    scale = dict_scaling[parent_name]\n",
    "    new_location = location * scale\n",
    "    marker.set_location(osim.Vec3(new_location.tolist()))"
   ]
  },
  {
   "cell_type": "code",
   "execution_count": 5,
   "id": "7bee7eaa",
   "metadata": {},
   "outputs": [
    {
     "data": {
      "text/plain": [
       "True"
      ]
     },
     "execution_count": 5,
     "metadata": {},
     "output_type": "execute_result"
    }
   ],
   "source": [
    "markerset.printToXML('./cycling_markerset_scaled_lenhart.xml')"
   ]
  },
  {
   "cell_type": "code",
   "execution_count": null,
   "id": "2ae5d00c",
   "metadata": {},
   "outputs": [],
   "source": []
  }
 ],
 "metadata": {
  "kernelspec": {
   "display_name": "Python 3 (ipykernel)",
   "language": "python",
   "name": "python3"
  },
  "language_info": {
   "codemirror_mode": {
    "name": "ipython",
    "version": 3
   },
   "file_extension": ".py",
   "mimetype": "text/x-python",
   "name": "python",
   "nbconvert_exporter": "python",
   "pygments_lexer": "ipython3",
   "version": "3.7.7"
  }
 },
 "nbformat": 4,
 "nbformat_minor": 5
}

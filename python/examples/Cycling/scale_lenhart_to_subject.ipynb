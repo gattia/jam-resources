{
 "cells": [
  {
   "cell_type": "code",
   "execution_count": 1,
   "id": "c4682295",
   "metadata": {},
   "outputs": [],
   "source": [
    "import os\n",
    "import opensim as osim\n"
   ]
  },
  {
   "cell_type": "code",
   "execution_count": 39,
   "id": "133e16fb",
   "metadata": {},
   "outputs": [],
   "source": [
    "path_markerset = '../../cycling_markerset_scaled_lenhart.xml'\n",
    "\n",
    "path_comak_model = '../../../../../models/knee_healthy/lenhart2015/lenhart2015.osim'\n",
    "\n",
    "path_scale_tool_settings = os.path.abspath('./model/P017/orig_scale_settings_phd_p044_v2.xml')\n",
    "path_static_trial = 'static_trial/marker_data.trc'\n",
    "\n"
   ]
  },
  {
   "cell_type": "code",
   "execution_count": 40,
   "id": "307eff76",
   "metadata": {},
   "outputs": [],
   "source": [
    "mass = 77.3 #kg\n",
    "\n",
    "time_array = osim.ArrayDouble()\n",
    "time_array.setSize(2)\n",
    "time_array.set(0, 2)\n",
    "time_array.set(1, 3)"
   ]
  },
  {
   "cell_type": "code",
   "execution_count": 53,
   "id": "d7ae8a23",
   "metadata": {},
   "outputs": [],
   "source": [
    "scale_tool = osim.ScaleTool(path_scale_tool_settings)\n",
    "scale_tool.setSubjectMass(mass)\n",
    "\n",
    "modelmaker = scale_tool.getGenericModelMaker()\n",
    "modelmaker.setMarkerSetFileName(path_markerset)\n",
    "modelmaker.setModelFileName(path_comak_model)\n",
    "\n",
    "modelscaler = scale_tool.getModelScaler()\n",
    "modelscaler.setMarkerFileName(path_static_trial)\n",
    "modelscaler.setTimeRange(time_array)\n",
    "\n",
    "markerplacer = scale_tool.getMarkerPlacer()\n",
    "markerplacer.setTimeRange(time_array)\n",
    "markerplacer.setMarkerFileName(path_static_trial)\n",
    "\n",
    "ik_tasks = markerplacer.getIKTaskSet()\n",
    "n_tasks = ik_tasks.getSize()\n",
    "for task_idx in range(n_tasks):\n",
    "    task = ik_tasks.get(task_idx)\n",
    "    if task.getConcreteClassName() == 'IKCoordinateTask':\n",
    "        name = task.getName()\n",
    "        if ('knee_angle' in name) or ('ankle_angle' in name):\n",
    "            task.setName(name.replace('angle', 'flex'))"
   ]
  },
  {
   "cell_type": "code",
   "execution_count": 54,
   "id": "4b711c15",
   "metadata": {
    "scrolled": true
   },
   "outputs": [
    {
     "data": {
      "text/plain": [
       "True"
      ]
     },
     "execution_count": 54,
     "metadata": {},
     "output_type": "execute_result"
    },
    {
     "name": "stdout",
     "output_type": "stream",
     "text": [
      "[info] Processing subject scale_tool...\n",
      "[info] Step 1: Loading generic model\n",
      "[info] Loaded model lenhart2015 from file /root/jam-resources/python/examples/Cycling/model/P017/../../../../../models/knee_healthy/lenhart2015/lenhart2015.osim\n",
      "[info] Loading marker set from '/root/jam-resources/python/examples/Cycling/model/P017/../../cycling_markerset_scaled_lenhart.xml'.\n",
      "[info] Updated markers in model lenhart2015\n",
      "[info] Step 2: Scaling generic model\n",
      "[info] Loaded marker file /root/jam-resources/python/examples/Cycling/model/P017/static_trial/marker_data.trc (107 markers, 339 frames)\n",
      "[info] Measurement 'pelvis_width'\n",
      "[info] \tpair 0 (right_hjc, left_hjc): model = 0.184783, experimental = 0.178613\n",
      "[info] \toverall scale factor = 0.966607\n",
      "[info] Measurement 'r_femur'\n",
      "[info] \tpair 0 (right_hjc, right_kjc): model = 0.413568, experimental = 0.452727\n",
      "[info] \toverall scale factor = 1.09469\n",
      "[info] Measurement 'l_femur'\n",
      "[info] \tpair 0 (left_hjc, left_kjc): model = 0.430042, experimental = 0.464816\n",
      "[info] \toverall scale factor = 1.08086\n",
      "[info] Measurement 'r_tibia'\n",
      "[info] \tpair 0 (right_kjc, right_ajc): model = 0.355687, experimental = 0.388312\n",
      "[info] \toverall scale factor = 1.09173\n",
      "[info] Measurement 'l_tibia'\n",
      "[info] \tpair 0 (left_kjc, left_ajc): model = 0.327562, experimental = 0.376855\n",
      "[info] \toverall scale factor = 1.15049\n",
      "[info] Measurement 'r_foot_length'\n",
      "[info] \tpair 0 (right_mid_met_floor, right_calc_floor): model = 0.203251, experimental = 0.201242\n",
      "[info] \toverall scale factor = 0.990118\n",
      "[info] Measurement 'l_foot_length'\n",
      "[info] \tpair 0 (left_mid_met_floor, left_calc_floor): model = 0.215224, experimental = 0.213155\n",
      "[info] \toverall scale factor = 0.990388\n",
      "[info] Measurement 'pelvis_depth'\n",
      "[info] \tpair 0 (mid_asis, mid_psis): model = 0.226149, experimental = 0.189249\n",
      "[info] \toverall scale factor = 0.836831\n",
      "[info] Measurement 'pelvis_height'\n",
      "[info] \tpair 0 (mid_hjc, mid_pelvis): model = 0.100791, experimental = 0.0948789\n",
      "[info] \toverall scale factor = 0.941344\n",
      "[info] Measurement 'r_foot_width'\n",
      "[info] \tpair 0 (right_met_1_floor, right_met_5_floor): model = 0.111075, experimental = 0.114296\n",
      "[info] \toverall scale factor = 1.029\n",
      "[info] Measurement 'r_foot_height'\n",
      "[info] \tpair 0 (right_ajc_floor, right_ajc): model = 0.105071, experimental = 0.129125\n",
      "[info] \toverall scale factor = 1.22893\n",
      "[info] Measurement 'l_foot_width'\n",
      "[info] \tpair 0 (left_met_1_floor, left_met_5_floor): model = 0.11442, experimental = 0.117257\n",
      "[info] \toverall scale factor = 1.02479\n",
      "[info] Measurement 'l_foot_height'\n",
      "[info] \tpair 0 (left_ajc_floor, left_ajc): model = 0.114293, experimental = 0.122954\n",
      "[info] \toverall scale factor = 1.07578\n",
      "[info] Step 3: Placing markers on model\n",
      "[info] Loaded marker file /root/jam-resources/python/examples/Cycling/model/P017/static_trial/marker_data.trc (107 markers, 339 frames)\n",
      "[info] Averaged frames from time 2.0 to 3.0 in /root/jam-resources/python/examples/Cycling/model/P017/static_trial/marker_data.trc (frames 226 to 339)\n",
      "[info] Deleted 39 unused markers from model scale_tool.\n",
      "[info] Frame at (t = 2.0):\t total squared error = 0.0123431, marker error: RMS = 0.0202839, max = 0.0517414 (Tib_Tub_L)\n",
      "[info] Moved markers in model scale_tool to match locations in marker file '/root/jam-resources/python/examples/Cycling/model/P017/static_trial/marker_data.trc'.\n"
     ]
    }
   ],
   "source": [
    "scale_tool.run()"
   ]
  },
  {
   "cell_type": "code",
   "execution_count": 56,
   "id": "b996d684",
   "metadata": {},
   "outputs": [
    {
     "name": "stdout",
     "output_type": "stream",
     "text": [
      "[info] Processing subject scale_tool...\n",
      "[info] Step 1: Loading generic model\n",
      "[info] Loaded model lenhart2015 from file /root/jam-resources/python/examples/Cycling/model/P017/../../../../../models/knee_healthy/lenhart2015/lenhart2015.osim\n",
      "[info] Loading marker set from '/root/jam-resources/python/examples/Cycling/model/P017/../../cycling_markerset_scaled_lenhart.xml'.\n",
      "[info] Updated markers in model lenhart2015\n"
     ]
    }
   ],
   "source": [
    "new_model = scale_tool.createModel()"
   ]
  },
  {
   "cell_type": "code",
   "execution_count": 58,
   "id": "2771b5e3",
   "metadata": {},
   "outputs": [
    {
     "data": {
      "text/plain": [
       "True"
      ]
     },
     "execution_count": 58,
     "metadata": {},
     "output_type": "execute_result"
    }
   ],
   "source": [
    "new_model.printToXML('./model/scaled_lenhart_model.osim')"
   ]
  },
  {
   "cell_type": "code",
   "execution_count": null,
   "id": "fd598a38",
   "metadata": {},
   "outputs": [],
   "source": []
  }
 ],
 "metadata": {
  "kernelspec": {
   "display_name": "Python 3 (ipykernel)",
   "language": "python",
   "name": "python3"
  },
  "language_info": {
   "codemirror_mode": {
    "name": "ipython",
    "version": 3
   },
   "file_extension": ".py",
   "mimetype": "text/x-python",
   "name": "python",
   "nbconvert_exporter": "python",
   "pygments_lexer": "ipython3",
   "version": "3.7.7"
  }
 },
 "nbformat": 4,
 "nbformat_minor": 5
}
